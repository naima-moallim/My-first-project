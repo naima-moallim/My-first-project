{
  "nbformat": 4,
  "nbformat_minor": 0,
  "metadata": {
    "colab": {
      "provenance": [],
      "authorship_tag": "ABX9TyPlzG6Hr3zp2NK9siggC166",
      "include_colab_link": true
    },
    "kernelspec": {
      "name": "python3",
      "display_name": "Python 3"
    },
    "language_info": {
      "name": "python"
    }
  },
  "cells": [
    {
      "cell_type": "markdown",
      "metadata": {
        "id": "view-in-github",
        "colab_type": "text"
      },
      "source": [
        "<a href=\"https://colab.research.google.com/github/naima-moallim/My-first-project/blob/main/Task3.ipynb\" target=\"_parent\"><img src=\"https://colab.research.google.com/assets/colab-badge.svg\" alt=\"Open In Colab\"/></a>"
      ]
    },
    {
      "cell_type": "markdown",
      "source": [
        "Task1"
      ],
      "metadata": {
        "id": "UmAqCoXE1Bkh"
      }
    },
    {
      "cell_type": "code",
      "execution_count": 18,
      "metadata": {
        "id": "brV2zNuK013u"
      },
      "outputs": [],
      "source": [
        "import os\n",
        "import shutil\n",
        "\n",
        "def organize_files(directory):\n",
        "    # Define file type categories\n",
        "    file_types = {\n",
        "        'documents': ['.md', '.txt'],  # Markdown and text files\n",
        "        'data': ['.csv', '.json'],  # CSV and JSON data files\n",
        "        'images': ['.jpg', '.jpeg', '.png', '.gif', '.tiff', '.bmp', '.svg'],\n",
        "        'documents': ['.pdf', '.docx', '.txt', '.md', '.xlsx', '.pptx'],\n",
        "        'videos': ['.mp4', '.mov', '.avi', '.mkv', '.flv', '.wmv'],\n",
        "        'audio': ['.mp3', '.wav', '.aac', '.flac', '.ogg'],\n",
        "        'archives': ['.zip', '.rar', '.7z', '.tar', '.gz']\n",
        "            }\n",
        "\n",
        "    # Ensure the directory exists\n",
        "    if not os.path.exists(directory):\n",
        "        print(f\"The directory {directory} does not exist.\")\n",
        "        return\n",
        "\n",
        "    # Create subdirectories for each file type\n",
        "    for category in file_types:\n",
        "        category_path = os.path.join(directory, category)\n",
        "        if not os.path.exists(category_path):\n",
        "            os.mkdir(category_path)\n",
        "\n",
        "    # Organize files into subdirectories\n",
        "    for file in os.listdir(directory):\n",
        "        file_path = os.path.join(directory, file)\n",
        "        if os.path.isfile(file_path):\n",
        "            file_ext = os.path.splitext(file)[1].lower()\n",
        "            for category, extensions in file_types.items():\n",
        "                if file_ext in extensions:\n",
        "                    shutil.move(file_path, os.path.join(directory, category, file))\n",
        "                    break\n",
        "\n",
        "if __name__ == \"__main__\":\n",
        "    # Replace with the path to the directory you want to organize\n",
        "    directory_path = './sample_data'\n",
        "    organize_files(directory_path)\n"
      ]
    },
    {
      "cell_type": "markdown",
      "source": [
        "Task2"
      ],
      "metadata": {
        "id": "56jJnJZG_rBH"
      }
    },
    {
      "cell_type": "code",
      "source": [
        "import smtplib\n",
        "from email.mime.text import MIMEText\n",
        "from email.mime.multipart import MIMEMultipart\n",
        "\n",
        "def send_email(sender_email, receiver_email, subject, body, smtp_server, smtp_port, smtp_user, smtp_password):\n",
        "    # Create a multipart message\n",
        "    message = MIMEMultipart()\n",
        "    message[\"From\"] = sender_email\n",
        "    message[\"To\"] = receiver_email\n",
        "    message[\"Subject\"] = subject\n",
        "\n",
        "    # Add body to email\n",
        "    message.attach(MIMEText(body, \"plain\"))\n",
        "\n",
        "    try:\n",
        "        # Create a secure SSL context and connect to server\n",
        "        server = smtplib.SMTP_SSL(smtp_server, smtp_port)\n",
        "        server.connect(smtp_server, smtp_port)\n",
        "        server.login(smtp_user, smtp_password)\n",
        "        server.sendmail(sender_email, receiver_email, message.as_string())\n",
        "        server.quit()\n",
        "        print(\"Email sent successfully\")\n",
        "    except Exception as e:\n",
        "        print(f\"Error sending email: {e}\")\n",
        "\n",
        "# Email credentials and settings\n",
        "sender_email = \"naima.moallim@gmail.com\" # Enter your address\n",
        "receiver_email = \"d82b@hotmail.com\"  # Enter receiver address\n",
        "subject = \"Scheduled Reminder\"\n",
        "body = \"This is an automated reminder email.\"\n",
        "smtp_server = \"smtp.gmail.com\" # Use the SMTP server for your email provider\n",
        "smtp_port = 465 # Use the SMTP SSL port for your email provider\n",
        "smtp_user = \"naima.moallim@gmail.com\" # SMTP username\n",
        "smtp_password = \"eams wcpp jnby cflc\" # SMTP password\n",
        "\n",
        "# Send the email\n",
        "send_email(sender_email, receiver_email, subject, body, smtp_server, smtp_port, smtp_user, smtp_password)\n"
      ],
      "metadata": {
        "colab": {
          "base_uri": "https://localhost:8080/"
        },
        "id": "-OxRC-i2Vz-g",
        "outputId": "472f9864-8093-4eef-e5c5-ba57b80f8d4c"
      },
      "execution_count": 17,
      "outputs": [
        {
          "output_type": "stream",
          "name": "stdout",
          "text": [
            "Email sent successfully\n"
          ]
        }
      ]
    }
  ]
}