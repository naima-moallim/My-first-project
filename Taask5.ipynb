{
  "nbformat": 4,
  "nbformat_minor": 0,
  "metadata": {
    "colab": {
      "provenance": [],
      "authorship_tag": "ABX9TyNt21OKGiFRG0AvAUx+PZh0",
      "include_colab_link": true
    },
    "kernelspec": {
      "name": "python3",
      "display_name": "Python 3"
    },
    "language_info": {
      "name": "python"
    }
  },
  "cells": [
    {
      "cell_type": "markdown",
      "metadata": {
        "id": "view-in-github",
        "colab_type": "text"
      },
      "source": [
        "<a href=\"https://colab.research.google.com/github/naima-moallim/My-first-project/blob/main/Taask5.ipynb\" target=\"_parent\"><img src=\"https://colab.research.google.com/assets/colab-badge.svg\" alt=\"Open In Colab\"/></a>"
      ]
    },
    {
      "cell_type": "markdown",
      "source": [
        "# Task 1"
      ],
      "metadata": {
        "id": "CoRdBtoa__Au"
      }
    },
    {
      "cell_type": "code",
      "execution_count": 1,
      "metadata": {
        "colab": {
          "base_uri": "https://localhost:8080/"
        },
        "id": "23b_72BU4pfw",
        "outputId": "1fa637b5-0cb7-4522-a9c0-5c9304bc1a6a"
      },
      "outputs": [
        {
          "output_type": "stream",
          "name": "stdout",
          "text": [
            "Requirement already satisfied: requests in /usr/local/lib/python3.10/dist-packages (2.31.0)\n",
            "Requirement already satisfied: folium in /usr/local/lib/python3.10/dist-packages (0.14.0)\n",
            "Requirement already satisfied: charset-normalizer<4,>=2 in /usr/local/lib/python3.10/dist-packages (from requests) (3.3.2)\n",
            "Requirement already satisfied: idna<4,>=2.5 in /usr/local/lib/python3.10/dist-packages (from requests) (3.6)\n",
            "Requirement already satisfied: urllib3<3,>=1.21.1 in /usr/local/lib/python3.10/dist-packages (from requests) (2.0.7)\n",
            "Requirement already satisfied: certifi>=2017.4.17 in /usr/local/lib/python3.10/dist-packages (from requests) (2023.11.17)\n",
            "Requirement already satisfied: branca>=0.6.0 in /usr/local/lib/python3.10/dist-packages (from folium) (0.7.0)\n",
            "Requirement already satisfied: jinja2>=2.9 in /usr/local/lib/python3.10/dist-packages (from folium) (3.1.2)\n",
            "Requirement already satisfied: numpy in /usr/local/lib/python3.10/dist-packages (from folium) (1.23.5)\n",
            "Requirement already satisfied: MarkupSafe>=2.0 in /usr/local/lib/python3.10/dist-packages (from jinja2>=2.9->folium) (2.1.3)\n"
          ]
        }
      ],
      "source": [
        "pip install requests folium\n"
      ]
    },
    {
      "cell_type": "code",
      "source": [
        "import requests\n",
        "import folium\n",
        "\n",
        "def get_geolocation(ip):\n",
        "    try:\n",
        "        response = requests.get(f'http://ip-api.com/json/{ip}')\n",
        "        data = response.json()\n",
        "        return data['lat'], data['lon'], data['city']\n",
        "    except Exception as e:\n",
        "        print(f\"Error occurred: {e}\")\n",
        "        return None, None, None\n",
        "\n",
        "def display_map(lat, lon, city):\n",
        "    map = folium.Map(location=[lat, lon], zoom_start=12)\n",
        "    folium.Marker([lat, lon], popup=f\"{city}\").add_to(map)\n",
        "    map.save('map.html')\n",
        "\n",
        "def main():\n",
        "    user_ip = input(\"Enter your public IP address: \")  # User inputs their actual public IP\n",
        "    lat, lon, city = get_geolocation(user_ip)\n",
        "    if lat and lon:\n",
        "        print(f\"Location: {city}, Latitude: {lat}, Longitude: {lon}\")\n",
        "        display_map(lat, lon, city)\n",
        "        print(\"Map has been created and saved as 'map.html'\")\n",
        "    else:\n",
        "        print(\"Could not retrieve geolocation data.\")\n",
        "\n",
        "if __name__ == \"__main__\":\n",
        "    main()\n"
      ],
      "metadata": {
        "colab": {
          "base_uri": "https://localhost:8080/"
        },
        "id": "avp_fazY41v1",
        "outputId": "a8441c8e-1b2e-48e7-ef06-c1d11b395aef"
      },
      "execution_count": 13,
      "outputs": [
        {
          "output_type": "stream",
          "name": "stdout",
          "text": [
            "Enter your public IP address: 94.202.214.86\n",
            "Location: Abu Dhabi, Latitude: 24.4542, Longitude: 54.406\n",
            "Map has been created and saved as 'map.html'\n"
          ]
        }
      ]
    },
    {
      "cell_type": "markdown",
      "source": [
        "# Task 2"
      ],
      "metadata": {
        "id": "giFRpRXIACiq"
      }
    },
    {
      "cell_type": "code",
      "source": [
        "import random\n",
        "import time\n",
        "\n",
        "def create_board(size=4):\n",
        "    \"\"\" Create the board with pairs of numbers \"\"\"\n",
        "    cards = list(range(1, size*size//2 + 1)) * 2\n",
        "    random.shuffle(cards)\n",
        "    return [cards[i:i + size] for i in range(0, len(cards), size)]\n",
        "\n",
        "def print_board(board, revealed, size):\n",
        "    \"\"\" Print the board with revealed and unrevealed cards \"\"\"\n",
        "    for row_idx, row in enumerate(board):\n",
        "        for col_idx, card in enumerate(row):\n",
        "            if revealed[row_idx * size + col_idx]:\n",
        "                print(card, end=\" \")\n",
        "            else:\n",
        "                print(\"*\", end=\" \")\n",
        "        print()  # New line at the end of each row\n",
        "\n",
        "\n",
        "\n",
        "def get_choice(board, message=\"Choose a card (row, col): \"):\n",
        "    \"\"\" Get the user's choice and validate it \"\"\"\n",
        "    while True:\n",
        "        try:\n",
        "            row, col = map(int, input(message).split())\n",
        "            if row in range(len(board)) and col in range(len(board[0])):\n",
        "                return row, col\n",
        "            else:\n",
        "                print(\"Invalid choice, out of bounds.\")\n",
        "        except ValueError:\n",
        "            print(\"Invalid input. Please enter row and col.\")\n",
        "\n",
        "def check_match(board, first_choice, second_choice):\n",
        "    \"\"\" Check if two chosen cards match \"\"\"\n",
        "    return board[first_choice[0]][first_choice[1]] == board[second_choice[0]][second_choice[1]]\n",
        "\n",
        "def play_memory_game(size=4, time_limit=60):\n",
        "    \"\"\" Play the memory puzzle game \"\"\"\n",
        "    board = create_board(size)\n",
        "    revealed = [False] * (size * size)\n",
        "    start_time = time.time()\n",
        "    matches = 0\n",
        "\n",
        "    while time.time() - start_time < time_limit and matches < size*size//2:\n",
        "        print_board(board, revealed, size)\n",
        "        print(f\"Time remaining: {int(time_limit - (time.time() - start_time))} seconds\")\n",
        "\n",
        "        first_choice = get_choice(board)\n",
        "        revealed[first_choice[0] * size + first_choice[1]] = True\n",
        "        print_board(board, revealed, size)\n",
        "\n",
        "        second_choice = get_choice(board)\n",
        "        if first_choice == second_choice:\n",
        "            print(\"Choose a different card.\")\n",
        "            revealed[first_choice[0] * size + first_choice[1]] = False\n",
        "            continue\n",
        "\n",
        "        revealed[second_choice[0] * size + second_choice[1]] = True\n",
        "        print_board(board, revealed, size)\n",
        "\n",
        "        if check_match(board, first_choice, second_choice):\n",
        "            print(\"Match found!\")\n",
        "            matches += 1\n",
        "        else:\n",
        "            print(\"No match.\")\n",
        "            revealed[first_choice[0] * size + first_choice[1]] = False\n",
        "            revealed[second_choice[0] * size + second_choice[1]] = False\n",
        "            time.sleep(2)  # Short pause to memorize the cards\n",
        "\n",
        "    if matches == size*size//2:\n",
        "        print(\"Congratulations! You've found all the matches!\")\n",
        "    else:\n",
        "        print(\"Time's up! Try again.\")\n",
        "\n",
        "    print(\"Game over.\")\n",
        "\n",
        "# To play the game\n",
        "play_memory_game()\n"
      ],
      "metadata": {
        "colab": {
          "base_uri": "https://localhost:8080/"
        },
        "id": "HZYnZEOmAEja",
        "outputId": "2f28c0bb-dfcd-444c-be55-913635e639aa"
      },
      "execution_count": null,
      "outputs": [
        {
          "output_type": "stream",
          "name": "stdout",
          "text": [
            "* * * * \n",
            "* * * * \n",
            "* * * * \n",
            "* * * * \n",
            "Time remaining: 59 seconds\n",
            "Choose a card (row, col): 0 1\n",
            "* 7 * * \n",
            "* * * * \n",
            "* * * * \n",
            "* * * * \n",
            "Choose a card (row, col): 0 3\n",
            "* 7 * 6 \n",
            "* * * * \n",
            "* * * * \n",
            "* * * * \n",
            "No match.\n",
            "* * * * \n",
            "* * * * \n",
            "* * * * \n",
            "* * * * \n",
            "Time remaining: 43 seconds\n",
            "Choose a card (row, col): 2 0\n",
            "* * * * \n",
            "* * * * \n",
            "7 * * * \n",
            "* * * * \n"
          ]
        }
      ]
    }
  ]
}